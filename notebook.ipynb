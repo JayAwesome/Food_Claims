{
 "cells": [
  {
   "cell_type": "markdown",
   "id": "a5b3bc0e-b993-4ee3-bd07-825a474bd0d9",
   "metadata": {
    "tags": []
   },
   "source": [
    "# Data Analyst Associate Practical Exam Submission\n",
    "\n",
    "**You can use any tool that you want to do your analysis and create visualizations. Use this template to write up your summary for submission.**\n",
    "\n",
    "You can use any markdown formatting you wish. If you are not familiar with Markdown, read the [Markdown Guide](https://s3.amazonaws.com/talent-assets.datacamp.com/Markdown+Guide.pdf) before you start.\n",
    "\n"
   ]
  },
  {
   "cell_type": "markdown",
   "id": "d1b1a012-1ccb-40e7-a1ad-77b60b256690",
   "metadata": {
    "tags": []
   },
   "source": [
    "## Task 1\n",
    "For every column in the data:\n",
    "1. State whether the values match the description given in the table above.\n",
    "2. State the number of missing values in the column.\n",
    "3. Describe what you did to make values match the description if they did not\n",
    "     match.\n"
   ]
  },
  {
   "cell_type": "markdown",
   "id": "0a2966e1-6d43-4219-a514-0dc46986692e",
   "metadata": {},
   "source": [
    "### BACKGROUND\n",
    "\n",
    "Vivendo is a fast food chain in Brazil with over 200 outlets.\n",
    "\n",
    "Customers often claim compensation from the company for food poisoning.\n",
    "\n",
    "The legal team processes these claims. The legal team has offices in four locations.\n",
    "\n",
    "The legal team wants to improve how long it takes to reply to customers and close claims.\n",
    "\n",
    "The head of the legal department wants a report on how each location differs in the time it\n",
    "takes to close claims."
   ]
  },
  {
   "cell_type": "code",
   "execution_count": 1,
   "id": "8e8ed385-3014-4258-a9d0-8a97d81e29c0",
   "metadata": {
    "executionCancelledAt": null,
    "executionTime": 47,
    "lastExecutedAt": 1690380055611,
    "lastScheduledRunId": null,
    "lastSuccessfullyExecutedCode": "import pandas as pd\nimport numpy as np\nimport seaborn as sns\nfrom matplotlib import pyplot as plt",
    "tags": []
   },
   "outputs": [],
   "source": [
    "import pandas as pd\n",
    "import numpy as np\n",
    "import seaborn as sns\n",
    "from matplotlib import pyplot as plt"
   ]
  },
  {
   "cell_type": "code",
   "execution_count": 2,
   "id": "b1fd2ccc-e0f8-4b03-99ee-b56ff3f92361",
   "metadata": {
    "executionCancelledAt": null,
    "executionTime": 47,
    "lastExecutedAt": 1690380055658,
    "lastScheduledRunId": null,
    "lastSuccessfullyExecutedCode": "df = pd.read_csv('claims.csv')\n\n",
    "tags": []
   },
   "outputs": [],
   "source": [
    "df = pd.read_csv('claims.csv')\n",
    "\n"
   ]
  },
  {
   "cell_type": "markdown",
   "id": "39d228a5-64fd-4bee-920a-2f74e07ea82e",
   "metadata": {},
   "source": [
    "**Food Claims**"
   ]
  },
  {
   "cell_type": "code",
   "execution_count": 3,
   "id": "7a2cb4ad-b0f8-49e1-a446-6dba1f4abb17",
   "metadata": {
    "chartConfig": {
     "bar": {
      "hasRoundedCorners": true,
      "stacked": false
     },
     "type": "bar",
     "version": "v1"
    },
    "executionCancelledAt": null,
    "executionTime": 49,
    "lastExecutedAt": 1690380055708,
    "lastScheduledRunId": null,
    "lastSuccessfullyExecutedCode": "df.head()",
    "outputsMetadata": {
     "0": {
      "height": 0,
      "type": "dataFrame"
     }
    },
    "tags": [],
    "visualizeDataframe": false
   },
   "outputs": [
    {
     "data": {
      "text/html": [
       "<div>\n",
       "<style scoped>\n",
       "    .dataframe tbody tr th:only-of-type {\n",
       "        vertical-align: middle;\n",
       "    }\n",
       "\n",
       "    .dataframe tbody tr th {\n",
       "        vertical-align: top;\n",
       "    }\n",
       "\n",
       "    .dataframe thead th {\n",
       "        text-align: right;\n",
       "    }\n",
       "</style>\n",
       "<table border=\"1\" class=\"dataframe\">\n",
       "  <thead>\n",
       "    <tr style=\"text-align: right;\">\n",
       "      <th></th>\n",
       "      <th>Claim ID</th>\n",
       "      <th>Time to Close</th>\n",
       "      <th>Claim Amount</th>\n",
       "      <th>Amount Paid</th>\n",
       "      <th>Location</th>\n",
       "      <th>Individuals on Claim</th>\n",
       "      <th>Linked Cases</th>\n",
       "      <th>Cause</th>\n",
       "    </tr>\n",
       "  </thead>\n",
       "  <tbody>\n",
       "    <tr>\n",
       "      <th>0</th>\n",
       "      <td>0000000-00.2010.0.00.0094</td>\n",
       "      <td>2082</td>\n",
       "      <td>R$50,000.00</td>\n",
       "      <td>34297.47</td>\n",
       "      <td>RECIFE</td>\n",
       "      <td>2</td>\n",
       "      <td>False</td>\n",
       "      <td>NaN</td>\n",
       "    </tr>\n",
       "    <tr>\n",
       "      <th>1</th>\n",
       "      <td>0000000-00.2011.0.00.0086</td>\n",
       "      <td>3591</td>\n",
       "      <td>R$180,000.00</td>\n",
       "      <td>56383.54</td>\n",
       "      <td>SAO LUIS</td>\n",
       "      <td>7</td>\n",
       "      <td>False</td>\n",
       "      <td>NaN</td>\n",
       "    </tr>\n",
       "    <tr>\n",
       "      <th>2</th>\n",
       "      <td>0000000-00.2012.0.00.0092</td>\n",
       "      <td>2997</td>\n",
       "      <td>R$70,000.00</td>\n",
       "      <td>12366.76</td>\n",
       "      <td>SAO LUIS</td>\n",
       "      <td>3</td>\n",
       "      <td>False</td>\n",
       "      <td>vegetables</td>\n",
       "    </tr>\n",
       "    <tr>\n",
       "      <th>3</th>\n",
       "      <td>0000000-00.2013.0.00.0096</td>\n",
       "      <td>1143</td>\n",
       "      <td>R$95,104.00</td>\n",
       "      <td>29217.16</td>\n",
       "      <td>FORTALEZA</td>\n",
       "      <td>4</td>\n",
       "      <td>False</td>\n",
       "      <td>NaN</td>\n",
       "    </tr>\n",
       "    <tr>\n",
       "      <th>4</th>\n",
       "      <td>0000000-00.2014.0.00.0097</td>\n",
       "      <td>117</td>\n",
       "      <td>R$29,000.00</td>\n",
       "      <td>12610.50</td>\n",
       "      <td>FORTALEZA</td>\n",
       "      <td>1</td>\n",
       "      <td>False</td>\n",
       "      <td>meat</td>\n",
       "    </tr>\n",
       "  </tbody>\n",
       "</table>\n",
       "</div>"
      ],
      "text/plain": [
       "                    Claim ID  Time to Close  Claim Amount  Amount Paid  \\\n",
       "0  0000000-00.2010.0.00.0094           2082   R$50,000.00     34297.47   \n",
       "1  0000000-00.2011.0.00.0086           3591  R$180,000.00     56383.54   \n",
       "2  0000000-00.2012.0.00.0092           2997   R$70,000.00     12366.76   \n",
       "3  0000000-00.2013.0.00.0096           1143   R$95,104.00     29217.16   \n",
       "4  0000000-00.2014.0.00.0097            117   R$29,000.00     12610.50   \n",
       "\n",
       "    Location  Individuals on Claim  Linked Cases       Cause  \n",
       "0     RECIFE                     2         False         NaN  \n",
       "1   SAO LUIS                     7         False         NaN  \n",
       "2   SAO LUIS                     3         False  vegetables  \n",
       "3  FORTALEZA                     4         False         NaN  \n",
       "4  FORTALEZA                     1         False        meat  "
      ]
     },
     "execution_count": 3,
     "metadata": {},
     "output_type": "execute_result"
    }
   ],
   "source": [
    "df.head()"
   ]
  },
  {
   "cell_type": "code",
   "execution_count": 4,
   "id": "ec69d4b2-6c6d-4942-968d-d96903c4eed0",
   "metadata": {
    "executionCancelledAt": null,
    "executionTime": 47,
    "lastExecutedAt": 1690380055755,
    "lastScheduledRunId": null,
    "lastSuccessfullyExecutedCode": "df.shape",
    "tags": []
   },
   "outputs": [
    {
     "data": {
      "text/plain": [
       "(98, 8)"
      ]
     },
     "execution_count": 4,
     "metadata": {},
     "output_type": "execute_result"
    }
   ],
   "source": [
    "df.shape"
   ]
  },
  {
   "cell_type": "code",
   "execution_count": 5,
   "id": "323b64a3-20b0-4121-a541-2ba1dd058190",
   "metadata": {
    "executionCancelledAt": null,
    "executionTime": 49,
    "lastExecutedAt": 1690380055804,
    "lastScheduledRunId": null,
    "lastSuccessfullyExecutedCode": "# Count Claim ID unique value\nprint(\"There are \" + str(df['Claim ID'].nunique()) + \" unique Claim ID\")",
    "outputsMetadata": {
     "0": {
      "height": 0,
      "type": "stream"
     }
    },
    "tags": []
   },
   "outputs": [
    {
     "name": "stdout",
     "output_type": "stream",
     "text": [
      "There are 98 unique Claim ID\n"
     ]
    }
   ],
   "source": [
    "# Count Claim ID unique value\n",
    "print(\"There are \" + str(df['Claim ID'].nunique()) + \" unique Claim ID\")"
   ]
  },
  {
   "cell_type": "code",
   "execution_count": 6,
   "id": "6a7cb56f-c78a-4d7b-afda-0e49ae1c9d63",
   "metadata": {
    "executionCancelledAt": null,
    "executionTime": 52,
    "lastExecutedAt": 1690380055856,
    "lastScheduledRunId": null,
    "lastSuccessfullyExecutedCode": "df.info()",
    "outputsMetadata": {
     "0": {
      "height": 0,
      "type": "stream"
     }
    }
   },
   "outputs": [
    {
     "name": "stdout",
     "output_type": "stream",
     "text": [
      "<class 'pandas.core.frame.DataFrame'>\n",
      "RangeIndex: 98 entries, 0 to 97\n",
      "Data columns (total 8 columns):\n",
      " #   Column                Non-Null Count  Dtype  \n",
      "---  ------                --------------  -----  \n",
      " 0   Claim ID              98 non-null     object \n",
      " 1   Time to Close         98 non-null     int64  \n",
      " 2   Claim Amount          98 non-null     object \n",
      " 3   Amount Paid           98 non-null     float64\n",
      " 4   Location              98 non-null     object \n",
      " 5   Individuals on Claim  98 non-null     int64  \n",
      " 6   Linked Cases          98 non-null     bool   \n",
      " 7   Cause                 20 non-null     object \n",
      "dtypes: bool(1), float64(1), int64(2), object(4)\n",
      "memory usage: 5.6+ KB\n"
     ]
    }
   ],
   "source": [
    "df.info()"
   ]
  },
  {
   "cell_type": "code",
   "execution_count": 7,
   "id": "6bf76f69-f49e-47af-98e3-d4648026d8dc",
   "metadata": {
    "executionCancelledAt": null,
    "executionTime": 51,
    "lastExecutedAt": 1690380055907,
    "lastScheduledRunId": null,
    "lastSuccessfullyExecutedCode": "# Converted from \"R$50,000.00\" to 50000 and cast data type from string to integer\ndf['Claim Amount'] = df['Claim Amount'].apply(lambda st: st[st.find(\"$\")+1:st.find(\".\")]).str.replace(\",\",\"\")"
   },
   "outputs": [],
   "source": [
    "# Converted from \"R$50,000.00\" to 50000 and cast data type from string to integer\n",
    "df['Claim Amount'] = df['Claim Amount'].apply(lambda st: st[st.find(\"$\")+1:st.find(\".\")]).str.replace(\",\",\"\")"
   ]
  },
  {
   "cell_type": "code",
   "execution_count": 8,
   "id": "11c358dd-c1d6-488b-9df7-a3fc99670291",
   "metadata": {
    "executionCancelledAt": null,
    "executionTime": 46,
    "lastExecutedAt": 1690380055954,
    "lastScheduledRunId": null,
    "lastSuccessfullyExecutedCode": "df['Claim Amount'] = pd.to_numeric(df['Claim Amount'])"
   },
   "outputs": [],
   "source": [
    "df['Claim Amount'] = pd.to_numeric(df['Claim Amount'])"
   ]
  },
  {
   "cell_type": "code",
   "execution_count": 9,
   "id": "f729392a-e727-4569-a10f-8927cf1a3939",
   "metadata": {
    "executionCancelledAt": null,
    "executionTime": 47,
    "lastExecutedAt": 1690380056002,
    "lastScheduledRunId": null,
    "lastSuccessfullyExecutedCode": "df['Claim Amount'] = df['Claim Amount'].round(2)"
   },
   "outputs": [],
   "source": [
    "df['Claim Amount'] = df['Claim Amount'].round(2)"
   ]
  },
  {
   "cell_type": "markdown",
   "id": "08a33c96-58de-43ff-8283-5a197d0afc62",
   "metadata": {},
   "source": [
    "**Converted from \"R$50,000.00\" to 50000 and cast data type from string to integer**"
   ]
  },
  {
   "cell_type": "code",
   "execution_count": 10,
   "id": "017cae0c-8085-4bc1-8204-9276f8a5f2f3",
   "metadata": {
    "executionCancelledAt": null,
    "executionTime": 48,
    "lastExecutedAt": 1690380056051,
    "lastScheduledRunId": null,
    "lastSuccessfullyExecutedCode": "df.head(5)",
    "outputsMetadata": {
     "0": {
      "height": 199,
      "type": "dataFrame"
     }
    }
   },
   "outputs": [
    {
     "data": {
      "text/html": [
       "<div>\n",
       "<style scoped>\n",
       "    .dataframe tbody tr th:only-of-type {\n",
       "        vertical-align: middle;\n",
       "    }\n",
       "\n",
       "    .dataframe tbody tr th {\n",
       "        vertical-align: top;\n",
       "    }\n",
       "\n",
       "    .dataframe thead th {\n",
       "        text-align: right;\n",
       "    }\n",
       "</style>\n",
       "<table border=\"1\" class=\"dataframe\">\n",
       "  <thead>\n",
       "    <tr style=\"text-align: right;\">\n",
       "      <th></th>\n",
       "      <th>Claim ID</th>\n",
       "      <th>Time to Close</th>\n",
       "      <th>Claim Amount</th>\n",
       "      <th>Amount Paid</th>\n",
       "      <th>Location</th>\n",
       "      <th>Individuals on Claim</th>\n",
       "      <th>Linked Cases</th>\n",
       "      <th>Cause</th>\n",
       "    </tr>\n",
       "  </thead>\n",
       "  <tbody>\n",
       "    <tr>\n",
       "      <th>0</th>\n",
       "      <td>0000000-00.2010.0.00.0094</td>\n",
       "      <td>2082</td>\n",
       "      <td>50000</td>\n",
       "      <td>34297.47</td>\n",
       "      <td>RECIFE</td>\n",
       "      <td>2</td>\n",
       "      <td>False</td>\n",
       "      <td>NaN</td>\n",
       "    </tr>\n",
       "    <tr>\n",
       "      <th>1</th>\n",
       "      <td>0000000-00.2011.0.00.0086</td>\n",
       "      <td>3591</td>\n",
       "      <td>180000</td>\n",
       "      <td>56383.54</td>\n",
       "      <td>SAO LUIS</td>\n",
       "      <td>7</td>\n",
       "      <td>False</td>\n",
       "      <td>NaN</td>\n",
       "    </tr>\n",
       "    <tr>\n",
       "      <th>2</th>\n",
       "      <td>0000000-00.2012.0.00.0092</td>\n",
       "      <td>2997</td>\n",
       "      <td>70000</td>\n",
       "      <td>12366.76</td>\n",
       "      <td>SAO LUIS</td>\n",
       "      <td>3</td>\n",
       "      <td>False</td>\n",
       "      <td>vegetables</td>\n",
       "    </tr>\n",
       "    <tr>\n",
       "      <th>3</th>\n",
       "      <td>0000000-00.2013.0.00.0096</td>\n",
       "      <td>1143</td>\n",
       "      <td>95104</td>\n",
       "      <td>29217.16</td>\n",
       "      <td>FORTALEZA</td>\n",
       "      <td>4</td>\n",
       "      <td>False</td>\n",
       "      <td>NaN</td>\n",
       "    </tr>\n",
       "    <tr>\n",
       "      <th>4</th>\n",
       "      <td>0000000-00.2014.0.00.0097</td>\n",
       "      <td>117</td>\n",
       "      <td>29000</td>\n",
       "      <td>12610.50</td>\n",
       "      <td>FORTALEZA</td>\n",
       "      <td>1</td>\n",
       "      <td>False</td>\n",
       "      <td>meat</td>\n",
       "    </tr>\n",
       "  </tbody>\n",
       "</table>\n",
       "</div>"
      ],
      "text/plain": [
       "                    Claim ID  Time to Close  Claim Amount  Amount Paid  \\\n",
       "0  0000000-00.2010.0.00.0094           2082         50000     34297.47   \n",
       "1  0000000-00.2011.0.00.0086           3591        180000     56383.54   \n",
       "2  0000000-00.2012.0.00.0092           2997         70000     12366.76   \n",
       "3  0000000-00.2013.0.00.0096           1143         95104     29217.16   \n",
       "4  0000000-00.2014.0.00.0097            117         29000     12610.50   \n",
       "\n",
       "    Location  Individuals on Claim  Linked Cases       Cause  \n",
       "0     RECIFE                     2         False         NaN  \n",
       "1   SAO LUIS                     7         False         NaN  \n",
       "2   SAO LUIS                     3         False  vegetables  \n",
       "3  FORTALEZA                     4         False         NaN  \n",
       "4  FORTALEZA                     1         False        meat  "
      ]
     },
     "execution_count": 10,
     "metadata": {},
     "output_type": "execute_result"
    }
   ],
   "source": [
    "df.head(5)"
   ]
  },
  {
   "cell_type": "code",
   "execution_count": 11,
   "id": "cf71259d-237e-4eee-88d3-74654cb2691c",
   "metadata": {
    "executionCancelledAt": null,
    "executionTime": 48,
    "lastExecutedAt": 1690380056099,
    "lastScheduledRunId": null,
    "lastSuccessfullyExecutedCode": "df.info()",
    "outputsMetadata": {
     "0": {
      "height": 0,
      "type": "stream"
     }
    }
   },
   "outputs": [
    {
     "name": "stdout",
     "output_type": "stream",
     "text": [
      "<class 'pandas.core.frame.DataFrame'>\n",
      "RangeIndex: 98 entries, 0 to 97\n",
      "Data columns (total 8 columns):\n",
      " #   Column                Non-Null Count  Dtype  \n",
      "---  ------                --------------  -----  \n",
      " 0   Claim ID              98 non-null     object \n",
      " 1   Time to Close         98 non-null     int64  \n",
      " 2   Claim Amount          98 non-null     int64  \n",
      " 3   Amount Paid           98 non-null     float64\n",
      " 4   Location              98 non-null     object \n",
      " 5   Individuals on Claim  98 non-null     int64  \n",
      " 6   Linked Cases          98 non-null     bool   \n",
      " 7   Cause                 20 non-null     object \n",
      "dtypes: bool(1), float64(1), int64(3), object(3)\n",
      "memory usage: 5.6+ KB\n"
     ]
    }
   ],
   "source": [
    "df.info()"
   ]
  },
  {
   "cell_type": "code",
   "execution_count": 12,
   "id": "ac0278a3-164b-498a-8394-6ec0c8df806c",
   "metadata": {
    "executionCancelledAt": null,
    "executionTime": 53,
    "lastExecutedAt": 1690380056152,
    "lastScheduledRunId": null,
    "lastSuccessfullyExecutedCode": "# Check for null values\ndf.isna().sum()"
   },
   "outputs": [
    {
     "data": {
      "text/plain": [
       "Claim ID                 0\n",
       "Time to Close            0\n",
       "Claim Amount             0\n",
       "Amount Paid              0\n",
       "Location                 0\n",
       "Individuals on Claim     0\n",
       "Linked Cases             0\n",
       "Cause                   78\n",
       "dtype: int64"
      ]
     },
     "execution_count": 12,
     "metadata": {},
     "output_type": "execute_result"
    }
   ],
   "source": [
    "# Check for null values\n",
    "df.isna().sum()"
   ]
  },
  {
   "cell_type": "code",
   "execution_count": 13,
   "id": "6bb4ed98-7e18-4a4d-89c7-f05190813643",
   "metadata": {
    "executionCancelledAt": null,
    "executionTime": 48,
    "lastExecutedAt": 1690380056200,
    "lastScheduledRunId": null,
    "lastSuccessfullyExecutedCode": "# Replace null values in \"Cause\" column to \"unknown\"\ndf['Cause'] = df['Cause'].fillna('unknown')\nprint(df.isna().sum())",
    "outputsMetadata": {
     "0": {
      "height": 0,
      "type": "stream"
     }
    }
   },
   "outputs": [
    {
     "name": "stdout",
     "output_type": "stream",
     "text": [
      "Claim ID                0\n",
      "Time to Close           0\n",
      "Claim Amount            0\n",
      "Amount Paid             0\n",
      "Location                0\n",
      "Individuals on Claim    0\n",
      "Linked Cases            0\n",
      "Cause                   0\n",
      "dtype: int64\n"
     ]
    }
   ],
   "source": [
    "# Replace null values in \"Cause\" column to \"unknown\"\n",
    "df['Cause'] = df['Cause'].fillna('unknown')\n",
    "print(df.isna().sum())"
   ]
  },
  {
   "cell_type": "markdown",
   "id": "3ce0bdfd-7aac-4f10-90ae-3f127a0d1d4e",
   "metadata": {},
   "source": [
    "**Replaced null values in \"Cause\" column with \"unknown\"**"
   ]
  },
  {
   "cell_type": "code",
   "execution_count": 14,
   "id": "752915df-2c45-4d01-9c54-df46493a90a9",
   "metadata": {
    "executionCancelledAt": null,
    "executionTime": 55,
    "lastExecutedAt": 1690380056255,
    "lastScheduledRunId": null,
    "lastSuccessfullyExecutedCode": "df.head(5)",
    "outputsMetadata": {
     "0": {
      "height": 199,
      "type": "dataFrame"
     }
    }
   },
   "outputs": [
    {
     "data": {
      "text/html": [
       "<div>\n",
       "<style scoped>\n",
       "    .dataframe tbody tr th:only-of-type {\n",
       "        vertical-align: middle;\n",
       "    }\n",
       "\n",
       "    .dataframe tbody tr th {\n",
       "        vertical-align: top;\n",
       "    }\n",
       "\n",
       "    .dataframe thead th {\n",
       "        text-align: right;\n",
       "    }\n",
       "</style>\n",
       "<table border=\"1\" class=\"dataframe\">\n",
       "  <thead>\n",
       "    <tr style=\"text-align: right;\">\n",
       "      <th></th>\n",
       "      <th>Claim ID</th>\n",
       "      <th>Time to Close</th>\n",
       "      <th>Claim Amount</th>\n",
       "      <th>Amount Paid</th>\n",
       "      <th>Location</th>\n",
       "      <th>Individuals on Claim</th>\n",
       "      <th>Linked Cases</th>\n",
       "      <th>Cause</th>\n",
       "    </tr>\n",
       "  </thead>\n",
       "  <tbody>\n",
       "    <tr>\n",
       "      <th>0</th>\n",
       "      <td>0000000-00.2010.0.00.0094</td>\n",
       "      <td>2082</td>\n",
       "      <td>50000</td>\n",
       "      <td>34297.47</td>\n",
       "      <td>RECIFE</td>\n",
       "      <td>2</td>\n",
       "      <td>False</td>\n",
       "      <td>unknown</td>\n",
       "    </tr>\n",
       "    <tr>\n",
       "      <th>1</th>\n",
       "      <td>0000000-00.2011.0.00.0086</td>\n",
       "      <td>3591</td>\n",
       "      <td>180000</td>\n",
       "      <td>56383.54</td>\n",
       "      <td>SAO LUIS</td>\n",
       "      <td>7</td>\n",
       "      <td>False</td>\n",
       "      <td>unknown</td>\n",
       "    </tr>\n",
       "    <tr>\n",
       "      <th>2</th>\n",
       "      <td>0000000-00.2012.0.00.0092</td>\n",
       "      <td>2997</td>\n",
       "      <td>70000</td>\n",
       "      <td>12366.76</td>\n",
       "      <td>SAO LUIS</td>\n",
       "      <td>3</td>\n",
       "      <td>False</td>\n",
       "      <td>vegetables</td>\n",
       "    </tr>\n",
       "    <tr>\n",
       "      <th>3</th>\n",
       "      <td>0000000-00.2013.0.00.0096</td>\n",
       "      <td>1143</td>\n",
       "      <td>95104</td>\n",
       "      <td>29217.16</td>\n",
       "      <td>FORTALEZA</td>\n",
       "      <td>4</td>\n",
       "      <td>False</td>\n",
       "      <td>unknown</td>\n",
       "    </tr>\n",
       "    <tr>\n",
       "      <th>4</th>\n",
       "      <td>0000000-00.2014.0.00.0097</td>\n",
       "      <td>117</td>\n",
       "      <td>29000</td>\n",
       "      <td>12610.50</td>\n",
       "      <td>FORTALEZA</td>\n",
       "      <td>1</td>\n",
       "      <td>False</td>\n",
       "      <td>meat</td>\n",
       "    </tr>\n",
       "  </tbody>\n",
       "</table>\n",
       "</div>"
      ],
      "text/plain": [
       "                    Claim ID  Time to Close  Claim Amount  Amount Paid  \\\n",
       "0  0000000-00.2010.0.00.0094           2082         50000     34297.47   \n",
       "1  0000000-00.2011.0.00.0086           3591        180000     56383.54   \n",
       "2  0000000-00.2012.0.00.0092           2997         70000     12366.76   \n",
       "3  0000000-00.2013.0.00.0096           1143         95104     29217.16   \n",
       "4  0000000-00.2014.0.00.0097            117         29000     12610.50   \n",
       "\n",
       "    Location  Individuals on Claim  Linked Cases       Cause  \n",
       "0     RECIFE                     2         False     unknown  \n",
       "1   SAO LUIS                     7         False     unknown  \n",
       "2   SAO LUIS                     3         False  vegetables  \n",
       "3  FORTALEZA                     4         False     unknown  \n",
       "4  FORTALEZA                     1         False        meat  "
      ]
     },
     "execution_count": 14,
     "metadata": {},
     "output_type": "execute_result"
    }
   ],
   "source": [
    "df.head(5)"
   ]
  },
  {
   "cell_type": "markdown",
   "id": "e7324b74-5455-42a1-a61e-6bc83fe69656",
   "metadata": {},
   "source": [
    "**Claim ID** :There are 98 unique values that match the description given. There are no missing values. No changes were made to this column.\n",
    "\n",
    "**Time to Close**: The number of days to close the claim match the description given. There are no missing values. No changes were made to this column.\n",
    "\n",
    "**Claim Amount**: The initial claim requested in the currency of Brazil did not match the description,the currency inside \"Claim Amount\" column was replaced and removed from \"R$50,000.00\" into \"50000\". There are no missing values.\n",
    "\n",
    "**Amount Paid**: Final amount paid. In the currency of Brazil, match the description given. There are no missing values. No changes were made to this column.\n",
    "\n",
    "**Location**: There are 4 different location categories “RECIFE”, “SAO LUIS”,\n",
    "“FORTALEZA”, and “NATAL” as expected.\n",
    "\n",
    "**Individuals on Claim**: Number of individuals on this claim. Minimum 1 person, matches the description. There are no missing values. No changes were made to this column.\n",
    "\n",
    "**Linked Cases**: All of the values in this column were either TRUE or FALSE. There were no missing values. No changes were made to this column.\n",
    "\n",
    "**Cause**: There are 78 missing value in \"Cause\" column.All missing values were replaced with \"unknown\".\n"
   ]
  },
  {
   "cell_type": "markdown",
   "id": "c0f8c80c-443a-4b2e-93ee-cf67b2d4e691",
   "metadata": {
    "executionCancelledAt": null,
    "executionTime": 51,
    "jupyter": {
     "outputs_hidden": false,
     "source_hidden": false
    },
    "lastExecutedAt": 1690360957920,
    "lastScheduledRunId": null,
    "lastSuccessfullyExecutedCode": "## Task 2"
   },
   "source": [
    "## Task 2\n",
    "\n",
    "Create a visualization that shows the number of claims in each location. Use the\n",
    "visualization to:\n",
    "\n",
    "1. State which category of the variable location has the most observations\n",
    "2. Explain whether the observations are balanced across categories of the variable location"
   ]
  },
  {
   "cell_type": "code",
   "execution_count": 15,
   "id": "30e8f93f-a36d-4c15-9953-b512a64d176e",
   "metadata": {
    "executionCancelledAt": null,
    "executionTime": 52,
    "lastExecutedAt": 1690380056307,
    "lastScheduledRunId": null,
    "lastSuccessfullyExecutedCode": "# Count value in cause\nprint(\"There are \" + str(df['Cause'].nunique()) + \" Unique cause,\")\nprint(\"________________\")\nprint(\"Count 3 Main Cause of the Food Poisoning Injuries :\")\nprint(df['Cause'].value_counts())",
    "outputsMetadata": {
     "0": {
      "height": 0,
      "type": "stream"
     }
    }
   },
   "outputs": [
    {
     "name": "stdout",
     "output_type": "stream",
     "text": [
      "There are 3 Unique cause,\n",
      "________________\n",
      "Count 3 Main Cause of the Food Poisoning Injuries :\n",
      "unknown       78\n",
      "meat          12\n",
      "vegetables     8\n",
      "Name: Cause, dtype: int64\n"
     ]
    }
   ],
   "source": [
    "# Count value in cause\n",
    "print(\"There are \" + str(df['Cause'].nunique()) + \" Unique cause,\")\n",
    "print(\"________________\")\n",
    "print(\"Count 3 Main Cause of the Food Poisoning Injuries :\")\n",
    "print(df['Cause'].value_counts())"
   ]
  },
  {
   "cell_type": "code",
   "execution_count": 16,
   "id": "507b9184-12bb-408c-a924-9132357369c5",
   "metadata": {
    "executionCancelledAt": null,
    "executionTime": 147,
    "lastExecutedAt": 1690380056454,
    "lastScheduledRunId": null,
    "lastSuccessfullyExecutedCode": "# Plot 3 main cause of the food poisoning injuries\nplt.figure(figsize=(10,6))\ncolor = ['#E15759','#59A14F','#F28E2B']\nsplot = sns.countplot(data=df,x=df['Cause'],palette=color)\nplt.xlabel(\"Cause\")\nplt.ylabel(\"Counts\")\nplt.title('Total 3 Main Cause of The Food Poisoning Injuries', fontsize = 14)\nfor p in splot.patches:\n  splot.annotate(format(p.get_height(), '.2f'), (p.get_x() + p.get_width() / 2., p.get_height()), ha = 'center', va = 'center', xytext = (0, 5), textcoords = 'offset points')\nplt.show()"
   },
   "outputs": [
    {
     "data": {
      "image/png": "[encoded data removed]",
      "text/plain": [
       "<Figure size 1000x600 with 1 Axes>"
      ]
     },
     "metadata": {},
     "output_type": "display_data"
    }
   ],
   "source": [
    "# Plot 3 main cause of the food poisoning injuries\n",
    "plt.figure(figsize=(10,6))\n",
    "color = ['#E15759','#59A14F','#F28E2B']\n",
    "splot = sns.countplot(data=df,x=df['Cause'],palette=color)\n",
    "plt.xlabel(\"Cause\")\n",
    "plt.ylabel(\"Counts\")\n",
    "plt.title('Total 3 Main Cause of The Food Poisoning Injuries', fontsize = 14)\n",
    "for p in splot.patches:\n",
    "  splot.annotate(format(p.get_height(), '.2f'), (p.get_x() + p.get_width() / 2., p.get_height()), ha = 'center', va = 'center', xytext = (0, 5), textcoords = 'offset points')\n",
    "plt.show()"
   ]
  },
  {
   "cell_type": "markdown",
   "id": "875022bb-b0c1-4f1f-893d-0f07243bfe59",
   "metadata": {},
   "source": [
    "From the plot above, we can see that most of poisoning injuries is cause by unknown, after that cause by meat, and vegetables"
   ]
  },
  {
   "cell_type": "code",
   "execution_count": 17,
   "id": "0bb90b96-d3f7-4373-bee1-35b12e295105",
   "metadata": {
    "chartConfig": {
     "bar": {
      "hasRoundedCorners": true,
      "stacked": false
     },
     "type": "bar",
     "version": "v1"
    },
    "executionCancelledAt": null,
    "executionTime": 49,
    "lastExecutedAt": 1690380056503,
    "lastScheduledRunId": null,
    "lastSuccessfullyExecutedCode": "# Describe df\ndf.describe()",
    "outputsMetadata": {
     "0": {
      "height": 255,
      "type": "dataFrame"
     }
    },
    "visualizeDataframe": false
   },
   "outputs": [
    {
     "data": {
      "text/html": [
       "<div>\n",
       "<style scoped>\n",
       "    .dataframe tbody tr th:only-of-type {\n",
       "        vertical-align: middle;\n",
       "    }\n",
       "\n",
       "    .dataframe tbody tr th {\n",
       "        vertical-align: top;\n",
       "    }\n",
       "\n",
       "    .dataframe thead th {\n",
       "        text-align: right;\n",
       "    }\n",
       "</style>\n",
       "<table border=\"1\" class=\"dataframe\">\n",
       "  <thead>\n",
       "    <tr style=\"text-align: right;\">\n",
       "      <th></th>\n",
       "      <th>Time to Close</th>\n",
       "      <th>Claim Amount</th>\n",
       "      <th>Amount Paid</th>\n",
       "      <th>Individuals on Claim</th>\n",
       "    </tr>\n",
       "  </thead>\n",
       "  <tbody>\n",
       "    <tr>\n",
       "      <th>count</th>\n",
       "      <td>98.000000</td>\n",
       "      <td>98.000000</td>\n",
       "      <td>98.000000</td>\n",
       "      <td>98.000000</td>\n",
       "    </tr>\n",
       "    <tr>\n",
       "      <th>mean</th>\n",
       "      <td>832.346939</td>\n",
       "      <td>122952.030612</td>\n",
       "      <td>58448.238571</td>\n",
       "      <td>4.908163</td>\n",
       "    </tr>\n",
       "    <tr>\n",
       "      <th>std</th>\n",
       "      <td>686.851131</td>\n",
       "      <td>166433.389040</td>\n",
       "      <td>87525.873849</td>\n",
       "      <td>7.292259</td>\n",
       "    </tr>\n",
       "    <tr>\n",
       "      <th>min</th>\n",
       "      <td>-57.000000</td>\n",
       "      <td>3555.000000</td>\n",
       "      <td>999.680000</td>\n",
       "      <td>0.000000</td>\n",
       "    </tr>\n",
       "    <tr>\n",
       "      <th>25%</th>\n",
       "      <td>340.750000</td>\n",
       "      <td>40000.000000</td>\n",
       "      <td>15965.642500</td>\n",
       "      <td>1.000000</td>\n",
       "    </tr>\n",
       "    <tr>\n",
       "      <th>50%</th>\n",
       "      <td>638.500000</td>\n",
       "      <td>58454.500000</td>\n",
       "      <td>29451.040000</td>\n",
       "      <td>2.000000</td>\n",
       "    </tr>\n",
       "    <tr>\n",
       "      <th>75%</th>\n",
       "      <td>1138.750000</td>\n",
       "      <td>136573.250000</td>\n",
       "      <td>52114.760000</td>\n",
       "      <td>5.750000</td>\n",
       "    </tr>\n",
       "    <tr>\n",
       "      <th>max</th>\n",
       "      <td>3591.000000</td>\n",
       "      <td>936540.000000</td>\n",
       "      <td>558725.770000</td>\n",
       "      <td>41.000000</td>\n",
       "    </tr>\n",
       "  </tbody>\n",
       "</table>\n",
       "</div>"
      ],
      "text/plain": [
       "       Time to Close   Claim Amount    Amount Paid  Individuals on Claim\n",
       "count      98.000000      98.000000      98.000000             98.000000\n",
       "mean      832.346939  122952.030612   58448.238571              4.908163\n",
       "std       686.851131  166433.389040   87525.873849              7.292259\n",
       "min       -57.000000    3555.000000     999.680000              0.000000\n",
       "25%       340.750000   40000.000000   15965.642500              1.000000\n",
       "50%       638.500000   58454.500000   29451.040000              2.000000\n",
       "75%      1138.750000  136573.250000   52114.760000              5.750000\n",
       "max      3591.000000  936540.000000  558725.770000             41.000000"
      ]
     },
     "execution_count": 17,
     "metadata": {},
     "output_type": "execute_result"
    }
   ],
   "source": [
    "# Describe df\n",
    "df.describe()"
   ]
  },
  {
   "cell_type": "code",
   "execution_count": 18,
   "id": "9667f6c0-535e-42a0-8b04-62db9dd17654",
   "metadata": {
    "executionCancelledAt": null,
    "executionTime": 48,
    "lastExecutedAt": 1690380056551,
    "lastScheduledRunId": null,
    "lastSuccessfullyExecutedCode": "# Explain whether the observations are balanced across categories of the variable location\nprint(\"Total Number of Individual on Claim Differ Across Location:\")\nprint(df.groupby(['Location'])['Individuals on Claim'].sum())",
    "outputsMetadata": {
     "0": {
      "height": 0,
      "type": "stream"
     }
    }
   },
   "outputs": [
    {
     "name": "stdout",
     "output_type": "stream",
     "text": [
      "Total Number of Individual on Claim Differ Across Location:\n",
      "Location\n",
      "FORTALEZA     69\n",
      "NATAL        168\n",
      "RECIFE       106\n",
      "SAO LUIS     138\n",
      "Name: Individuals on Claim, dtype: int64\n"
     ]
    }
   ],
   "source": [
    "# Explain whether the observations are balanced across categories of the variable location\n",
    "print(\"Total Number of Individual on Claim Differ Across Location:\")\n",
    "print(df.groupby(['Location'])['Individuals on Claim'].sum())"
   ]
  },
  {
   "cell_type": "code",
   "execution_count": 19,
   "id": "3ac695e7-cf5b-45f6-85e5-1cbb2671a878",
   "metadata": {
    "executionCancelledAt": null,
    "executionTime": 191,
    "lastExecutedAt": 1690380056742,
    "lastScheduledRunId": null,
    "lastSuccessfullyExecutedCode": "# Plot the number of claim differ across location\nplt.figure(figsize=(10,6))\ncolor = ['#5279A4','#E15759','#59A14F','#F28E2B']\nax = sns.barplot(x = sorted(df[\"Location\"].unique()),\n                 y = df.groupby(['Location'])['Individuals on Claim'].sum(), palette=color)\nplt.xlabel(\"Location\")\nplt.ylabel(\"Individual on Claims\")\nplt.title('Total Number of Individual on Claims Differ Across Location', fontsize = 14)\nfor p in ax.patches:\n  ax.annotate(format(p.get_height(), '.2f'), (p.get_x() + p.get_width() / 2., p.get_height()), ha = 'center', va = 'center', xytext = (0, 5), textcoords = 'offset points')\nplt.show()",
    "outputsMetadata": {
     "0": {
      "height": 36,
      "type": "stream"
     }
    }
   },
   "outputs": [
    {
     "data": {
      "image/png": "[encoded data removed]",
      "text/plain": [
       "<Figure size 1000x600 with 1 Axes>"
      ]
     },
     "metadata": {},
     "output_type": "display_data"
    }
   ],
   "source": [
    "# Plot the number of claim differ across location\n",
    "plt.figure(figsize=(10,6))\n",
    "color = ['#5279A4','#E15759','#59A14F','#F28E2B']\n",
    "ax = sns.barplot(x = sorted(df[\"Location\"].unique()),\n",
    "                 y = df.groupby(['Location'])['Individuals on Claim'].sum(), palette=color)\n",
    "plt.xlabel(\"Location\")\n",
    "plt.ylabel(\"Individual on Claims\")\n",
    "plt.title('Total Number of Individual on Claims Differ Across Location', fontsize = 14)\n",
    "for p in ax.patches:\n",
    "  ax.annotate(format(p.get_height(), '.2f'), (p.get_x() + p.get_width() / 2., p.get_height()), ha = 'center', va = 'center', xytext = (0, 5), textcoords = 'offset points')\n",
    "plt.show()"
   ]
  },
  {
   "cell_type": "markdown",
   "id": "68b4f438-f66a-4072-9594-68ee1c068382",
   "metadata": {},
   "source": [
    "   There are four locations that the legal team processes with claims included in this data. Most claims are listed in Natal, with Sao Luis being second. The categories are unbalanced, with most observations being either Natal or Sao Luis. This would suggest that the legal team should focus on distributing their members to handle claims in place with most claims, then Vivendo fast food company should consider why there are lots of claims in Sao Luis."
   ]
  },
  {
   "cell_type": "markdown",
   "id": "ce5f6df2-fbf2-4c44-9209-9ee668876b53",
   "metadata": {},
   "source": [
    "## Task 3\n",
    "\n",
    "Describe the distribution of time to close for all claims. Your answer must include a\n",
    "visualization that shows the distribution."
   ]
  },
  {
   "cell_type": "markdown",
   "id": "d29d05a6-5860-4a02-a8f7-d9562f556c3d",
   "metadata": {},
   "source": [
    "As the legal team thinks that the time to close the claims at a location will be important, we should look at how the time to close claims is distributed.\n",
    "\n",
    "Even though Natal has the most claims, Natal has the least average time to close claims compared with other locations. We can see from the graphic below that Sao Luis has the highest average time to close claims, then less in Recife, Fortaleza, and Natal. This would suggest that the legal team in Natal must have worked efficiently so that they could press the average time to close claims. The legal team should focus on making the average time lower in certain Locations such as Sao Luis and Fortaleza. Even though Fortaleza has the lowest claims, the average time to close claims is slightly high.\n",
    "\n",
    "There are various time to close between one claim and another. The most common time, it tooks around 0-500 days from someone make a claim until the claim has solved. The distribution of time to close claims is shown as follows using histograph."
   ]
  },
  {
   "cell_type": "code",
   "execution_count": 20,
   "id": "8fcff247-db49-42c0-8710-51848aeb6347",
   "metadata": {
    "executionCancelledAt": null,
    "executionTime": 49,
    "lastExecutedAt": 1690380056791,
    "lastScheduledRunId": null,
    "lastSuccessfullyExecutedCode": "# The average time to close claims differ by location?\nprint(\"Average time to close claims differ by location: \")\nprint(df.groupby('Location')['Time to Close'].mean())\n",
    "outputsMetadata": {
     "0": {
      "height": 0,
      "type": "stream"
     }
    }
   },
   "outputs": [
    {
     "name": "stdout",
     "output_type": "stream",
     "text": [
      "Average time to close claims differ by location: \n",
      "Location\n",
      "FORTALEZA     775.500000\n",
      "NATAL         581.142857\n",
      "RECIFE        860.680000\n",
      "SAO LUIS     1026.266667\n",
      "Name: Time to Close, dtype: float64\n"
     ]
    }
   ],
   "source": [
    "# The average time to close claims differ by location?\n",
    "print(\"Average time to close claims differ by location: \")\n",
    "print(df.groupby('Location')['Time to Close'].mean())\n"
   ]
  },
  {
   "cell_type": "code",
   "execution_count": 21,
   "id": "67eb303d-028c-493e-af8a-3ddc2be23c28",
   "metadata": {
    "executionCancelledAt": null,
    "executionTime": 158,
    "lastExecutedAt": 1690380056949,
    "lastScheduledRunId": null,
    "lastSuccessfullyExecutedCode": "# Plot the the average time to close claims differ by location\nplt.figure(figsize=(10,6))\ncolor = ['#5279A4','#E15759','#59A14F','#F28E2B']\nbx = sns.barplot(x = sorted(df[\"Location\"].unique()),\n                 y = df.groupby('Location')['Time to Close'].mean(),palette=color)\nplt.xlabel(\"Location\")\nplt.ylabel(\"Time (day)\")\nplt.title('Average Time(day) to Close Claims Differ by Location', fontsize = 14)\nfor p in bx.patches:\n  bx.annotate(format(p.get_height(), '.2f'), (p.get_x() + p.get_width() / 2., p.get_height()), ha = 'center', va = 'center', xytext = (0, 5), textcoords = 'offset points')\nplt.show()"
   },
   "outputs": [
    {
     "data": {
      "image/png": "[encoded data removed]",
      "text/plain": [
       "<Figure size 1000x600 with 1 Axes>"
      ]
     },
     "metadata": {},
     "output_type": "display_data"
    }
   ],
   "source": [
    "# Plot the the average time to close claims differ by location\n",
    "plt.figure(figsize=(10,6))\n",
    "color = ['#5279A4','#E15759','#59A14F','#F28E2B']\n",
    "bx = sns.barplot(x = sorted(df[\"Location\"].unique()),\n",
    "                 y = df.groupby('Location')['Time to Close'].mean(),palette=color)\n",
    "plt.xlabel(\"Location\")\n",
    "plt.ylabel(\"Time (day)\")\n",
    "plt.title('Average Time(day) to Close Claims Differ by Location', fontsize = 14)\n",
    "for p in bx.patches:\n",
    "  bx.annotate(format(p.get_height(), '.2f'), (p.get_x() + p.get_width() / 2., p.get_height()), ha = 'center', va = 'center', xytext = (0, 5), textcoords = 'offset points')\n",
    "plt.show()"
   ]
  },
  {
   "cell_type": "code",
   "execution_count": 22,
   "id": "179ebcb8-6f5b-49e8-81d2-5c8ff38815ae",
   "metadata": {
    "executionCancelledAt": null,
    "executionTime": 51,
    "lastExecutedAt": 1690380057000,
    "lastScheduledRunId": null,
    "lastSuccessfullyExecutedCode": "# What is the distribution of time to close claims?\nprint(df['Time to Close'].value_counts())",
    "outputsMetadata": {
     "0": {
      "height": 0,
      "type": "stream"
     }
    }
   },
   "outputs": [
    {
     "name": "stdout",
     "output_type": "stream",
     "text": [
      "120     3\n",
      "2082    1\n",
      "662     1\n",
      "473     1\n",
      "479     1\n",
      "       ..\n",
      "1177    1\n",
      "1164    1\n",
      "1169    1\n",
      "1178    1\n",
      "195     1\n",
      "Name: Time to Close, Length: 96, dtype: int64\n"
     ]
    }
   ],
   "source": [
    "# What is the distribution of time to close claims?\n",
    "print(df['Time to Close'].value_counts())"
   ]
  },
  {
   "cell_type": "code",
   "execution_count": 23,
   "id": "312a6ea9-2172-4499-a830-8eb37061cd62",
   "metadata": {
    "executionCancelledAt": null,
    "executionTime": 185,
    "lastExecutedAt": 1690380057185,
    "lastScheduledRunId": null,
    "lastSuccessfullyExecutedCode": "# Plot the distribution of time to close claims\nplt.figure(figsize=(10,6))\nsns.histplot(data=df, x=\"Time to Close\")\nplt.xlabel(\"Time to Close\")\nplt.ylabel(\"Counts\")\nplt.title('The Distribution of Time to Close Claims', fontsize = 14)\nplt.show()"
   },
   "outputs": [
    {
     "data": {
      "image/png": "[encoded data removed]",
      "text/plain": [
       "<Figure size 1000x600 with 1 Axes>"
      ]
     },
     "metadata": {},
     "output_type": "display_data"
    }
   ],
   "source": [
    "# Plot the distribution of time to close claims\n",
    "plt.figure(figsize=(10,6))\n",
    "sns.histplot(data=df, x=\"Time to Close\")\n",
    "plt.xlabel(\"Time to Close\")\n",
    "plt.ylabel(\"Counts\")\n",
    "plt.title('The Distribution of Time to Close Claims', fontsize = 14)\n",
    "plt.show()"
   ]
  },
  {
   "cell_type": "markdown",
   "id": "c5fbe3a0-d277-437c-a1a0-f1edf80684f7",
   "metadata": {},
   "source": [
    "## Task 4\n",
    "\n",
    "Describe the relationship between time to close and location. Your answer must\n",
    "include a visualization to demonstrate the relationship."
   ]
  },
  {
   "cell_type": "markdown",
   "id": "ae09b867-c7f4-461b-8cb5-1016b5c335d7",
   "metadata": {},
   "source": [
    "Following graph is the spread of time to close claims differ by location, Sao Luis has wide range and variance of time to close claims.\n",
    "Based on all of the below graphics, we would recommend that the legal team should focus on certain location that have highest individual claims, and increasing the effectivity while examine the claims to reduce the time to close within claim. The fast food company should also consider why that there was a highly individual claims in certain location"
   ]
  },
  {
   "cell_type": "code",
   "execution_count": 24,
   "id": "6ccf6dc3-06b9-482f-a27e-3441bdcb2080",
   "metadata": {
    "executionCancelledAt": null,
    "executionTime": 263,
    "lastExecutedAt": 1690380057448,
    "lastScheduledRunId": null,
    "lastSuccessfullyExecutedCode": "plt.figure(figsize=(10,6))\nsns.histplot(data=df, x=\"Time to Close\", hue=\"Location\")\nplt.show()"
   },
   "outputs": [
    {
     "data": {
      "image/png": "[encoded data removed]",
      "text/plain": [
       "<Figure size 1000x600 with 1 Axes>"
      ]
     },
     "metadata": {},
     "output_type": "display_data"
    }
   ],
   "source": [
    "plt.figure(figsize=(10,6))\n",
    "sns.histplot(data=df, x=\"Time to Close\", hue=\"Location\")\n",
    "plt.show()"
   ]
  },
  {
   "cell_type": "code",
   "execution_count": 25,
   "id": "40460311-f6da-4609-9b1f-1ce8bcda55f4",
   "metadata": {
    "executionCancelledAt": null,
    "executionTime": 278,
    "lastExecutedAt": 1690380057726,
    "lastScheduledRunId": null,
    "lastSuccessfullyExecutedCode": "# Plot the time to close claims differ by location\ncolor = ['#5279A4','#E15759','#59A14F','#F28E2B']\ncx = sns.catplot(x=\"Location\", y='Time to Close', kind=\"box\", data = df, order = sorted(df[\"Location\"].unique()), palette=color, height=7, aspect=8.7/7)\nplt.xlabel(\"Location\")\nplt.ylabel(\"Spread Time (day)\")\nplt.title('Spread Time(day) to Close Claims Differ by Location', fontsize = 14)\nplt.show()"
   },
   "outputs": [
    {
     "data": {
      "image/png": "[encoded data removed]",
      "text/plain": [
       "<Figure size 870x700 with 1 Axes>"
      ]
     },
     "metadata": {},
     "output_type": "display_data"
    }
   ],
   "source": [
    "# Plot the time to close claims differ by location\n",
    "color = ['#5279A4','#E15759','#59A14F','#F28E2B']\n",
    "cx = sns.catplot(x=\"Location\", y='Time to Close', kind=\"box\", data = df, order = sorted(df[\"Location\"].unique()), palette=color, height=7, aspect=8.7/7)\n",
    "plt.xlabel(\"Location\")\n",
    "plt.ylabel(\"Spread Time (day)\")\n",
    "plt.title('Spread Time(day) to Close Claims Differ by Location', fontsize = 14)\n",
    "plt.show()"
   ]
  },
  {
   "cell_type": "code",
   "execution_count": 26,
   "id": "9341f09a-fbea-4a8f-83b0-f59e820afb0f",
   "metadata": {
    "executionCancelledAt": null,
    "executionTime": 639,
    "lastExecutedAt": 1690380058366,
    "lastScheduledRunId": null,
    "lastSuccessfullyExecutedCode": "g = sns.FacetGrid(df, col=\"Location\")\ng.map_dataframe(sns.histplot, x=\"Time to Close\")"
   },
   "outputs": [
    {
     "data": {
      "text/plain": [
       "<seaborn.axisgrid.FacetGrid at 0x1e7b73e0a10>"
      ]
     },
     "execution_count": 26,
     "metadata": {},
     "output_type": "execute_result"
    },
    {
     "data": {
      "image/png": "[encoded data removed]",
      "text/plain": [
       "<Figure size 1200x300 with 4 Axes>"
      ]
     },
     "metadata": {},
     "output_type": "display_data"
    }
   ],
   "source": [
    "g = sns.FacetGrid(df, col=\"Location\")\n",
    "g.map_dataframe(sns.histplot, x=\"Time to Close\")"
   ]
  },
  {
   "cell_type": "markdown",
   "id": "f635131a-00f8-44dd-b610-509db41c1154",
   "metadata": {
    "tags": []
   },
   "source": [
    "## ✅ When you have finished...\n",
    "-  Publish your Workspace using the option on the left\n",
    "-  Check the published version of your report:\n",
    "\t-  Can you see everything you want us to grade?\n",
    "    -  Are all the graphics visible?\n",
    "-  Review the grading rubric. Have you included everything that will be graded?\n",
    "-  Head back to the [Certification Dashboard](https://app.datacamp.com/certification) to submit your practical exam"
   ]
  }
 ],
 "metadata": {
  "colab": {
   "name": "Welcome to DataCamp Workspaces.ipynb",
   "provenance": []
  },
  "kernelspec": {
   "display_name": "Python 3 (ipykernel)",
   "language": "python",
   "name": "python3"
  },
  "language_info": {
   "codemirror_mode": {
    "name": "ipython",
    "version": 3
   },
   "file_extension": ".py",
   "mimetype": "text/x-python",
   "name": "python",
   "nbconvert_exporter": "python",
   "pygments_lexer": "ipython3",
   "version": "3.11.3"
  }
 },
 "nbformat": 4,
 "nbformat_minor": 5
}
